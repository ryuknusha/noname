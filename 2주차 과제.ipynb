{
  "nbformat": 4,
  "nbformat_minor": 0,
  "metadata": {
    "colab": {
      "name": "Untitled2.ipynb",
      "provenance": [],
      "authorship_tag": "ABX9TyPIzywsf99oo9kGNfrbmpOx",
      "include_colab_link": true
    },
    "kernelspec": {
      "name": "python3",
      "display_name": "Python 3"
    }
  },
  "cells": [
    {
      "cell_type": "markdown",
      "metadata": {
        "id": "view-in-github",
        "colab_type": "text"
      },
      "source": [
        "<a href=\"https://colab.research.google.com/github/ryuknusha/noname/blob/master/2%EC%A3%BC%EC%B0%A8%20%EA%B3%BC%EC%A0%9C.ipynb\" target=\"_parent\"><img src=\"https://colab.research.google.com/assets/colab-badge.svg\" alt=\"Open In Colab\"/></a>"
      ]
    },
    {
      "cell_type": "markdown",
      "metadata": {
        "id": "UG3x5vL1cKY3",
        "colab_type": "text"
      },
      "source": [
        "#파이썬 문제"
      ]
    },
    {
      "cell_type": "markdown",
      "metadata": {
        "id": "_A141W2sUTpG",
        "colab_type": "text"
      },
      "source": [
        "###01번 문제 (Data Type)\n",
        "다음 변수 a, 변수 b, 변수 c의 자료형을 출력하세요."
      ]
    },
    {
      "cell_type": "code",
      "metadata": {
        "id": "U78fnVqjPMif",
        "colab_type": "code",
        "outputId": "f64a2d63-7d6b-478e-d10f-8f3543fe321f",
        "colab": {
          "base_uri": "https://localhost:8080/",
          "height": 35
        }
      },
      "source": [
        "a = 'str'\n",
        "b = 123\n",
        "c = True\n",
        "\n",
        "\n",
        "print(a, b, c)"
      ],
      "execution_count": 0,
      "outputs": [
        {
          "output_type": "stream",
          "text": [
            "str 123 True\n"
          ],
          "name": "stdout"
        }
      ]
    },
    {
      "cell_type": "markdown",
      "metadata": {
        "id": "X9RZWozZUew6",
        "colab_type": "text"
      },
      "source": [
        "###02번 문제 (for문)\n",
        "다음 변수 num_list에 있는 요소를 모두 더한 값을 for문을 활용하여 변수 answer에 저장하고 그 값을 출력하세요."
      ]
    },
    {
      "cell_type": "code",
      "metadata": {
        "id": "PXAoMHhBPr4X",
        "colab_type": "code",
        "outputId": "bbd21c5c-20a2-4f64-ad3e-de16e8edf900",
        "colab": {
          "base_uri": "https://localhost:8080/",
          "height": 35
        }
      },
      "source": [
        "num_list = [1,2,3,4,5,6,7,8,9]\n",
        "answer = 0\n",
        "for a in num_list:\n",
        "  answer = answer + a\n",
        "print(answer)"
      ],
      "execution_count": 0,
      "outputs": [
        {
          "output_type": "stream",
          "text": [
            "45\n"
          ],
          "name": "stdout"
        }
      ]
    },
    {
      "cell_type": "markdown",
      "metadata": {
        "id": "lzRNr3zYUie4",
        "colab_type": "text"
      },
      "source": [
        "###03번 문제 (slice string)\n",
        "다음 변수 date를 슬라이스해서 year(년), month(월), day(일)를 각각 출력하세요. (출력 : 2020 05 11)\n",
        "\n",
        "(tip: None을 지우고 date를 슬라이싱해서 각각의 데이터를 저장하세요!)\n",
        "\n"
      ]
    },
    {
      "cell_type": "code",
      "metadata": {
        "id": "irvak-6NUmno",
        "colab_type": "code",
        "outputId": "54d2c424-0f87-433c-ad1f-49b9b9ce8ee1",
        "colab": {
          "base_uri": "https://localhost:8080/",
          "height": 35
        }
      },
      "source": [
        "date = '20200511'\n",
        "\n",
        "year = date[ :4]\n",
        "month = date[4:6]\n",
        "day = date[6: ]\n",
        "\n",
        "print(year, month, day)"
      ],
      "execution_count": 0,
      "outputs": [
        {
          "output_type": "stream",
          "text": [
            "2020 05 11\n"
          ],
          "name": "stdout"
        }
      ]
    },
    {
      "cell_type": "markdown",
      "metadata": {
        "id": "A7XrBDchVK1V",
        "colab_type": "text"
      },
      "source": [
        "###04번 문제(for)\n",
        "다음 변수 summary에 1 부터 100까지 모두 더한 값을 저장하여 출력하세요."
      ]
    },
    {
      "cell_type": "code",
      "metadata": {
        "id": "R6j-lvmpVNBF",
        "colab_type": "code",
        "outputId": "a471da93-a9af-48a0-cee1-2d0c3061536b",
        "colab": {
          "base_uri": "https://localhost:8080/",
          "height": 35
        }
      },
      "source": [
        "summary = 0\n",
        "for a in range(1,101):\n",
        "  summary += a\n",
        "\n",
        "print(summary)"
      ],
      "execution_count": 0,
      "outputs": [
        {
          "output_type": "stream",
          "text": [
            "5050\n"
          ],
          "name": "stdout"
        }
      ]
    },
    {
      "cell_type": "markdown",
      "metadata": {
        "id": "YBCw69MzVgjc",
        "colab_type": "text"
      },
      "source": [
        "###05번 문제(string reverse)\n",
        "다음 변수 hangul의 문자열을 거꾸로 출력하세요. (출력:‘사바마라다나가’)"
      ]
    },
    {
      "cell_type": "code",
      "metadata": {
        "id": "TsvGnix_VjHy",
        "colab_type": "code",
        "outputId": "2673ba6a-3988-42e9-f446-c4c2d3b77426",
        "colab": {
          "base_uri": "https://localhost:8080/",
          "height": 35
        }
      },
      "source": [
        "hangul = '가나다라마바사'\n",
        "hangul_list = list(hangul)\n",
        "hangul_list.reverse()\n",
        "\n",
        "print(''.join(hangul_list))"
      ],
      "execution_count": 0,
      "outputs": [
        {
          "output_type": "stream",
          "text": [
            "사바마라다나가\n"
          ],
          "name": "stdout"
        }
      ]
    },
    {
      "cell_type": "markdown",
      "metadata": {
        "id": "4UtZuH9bW2kL",
        "colab_type": "text"
      },
      "source": [
        "###06번 문제(str -> list -> int 변환)\n",
        "다음 변수 num에는 공백으로 구분된 4개의 점수가 들어 있습니다. 평균을 구해서 출력하세요."
      ]
    },
    {
      "cell_type": "code",
      "metadata": {
        "id": "366nuKXUW5GW",
        "colab_type": "code",
        "colab": {}
      },
      "source": [
        "num = \"70 50 90 70\""
      ],
      "execution_count": 0,
      "outputs": []
    },
    {
      "cell_type": "markdown",
      "metadata": {
        "id": "FDPaOtb9XNz7",
        "colab_type": "text"
      },
      "source": [
        "###07번 문제(if문)\n",
        "다음 변수 n에 입력한 값이 짝수 일 경우 ‘짝수’를, 짝수가 아닐 경우 ‘짝수가 아닙니다’를 판별하여 출력하세요. (출력: 짝수 or 짝수가 아닙니다)"
      ]
    },
    {
      "cell_type": "code",
      "metadata": {
        "id": "QTkvWHGjXRmj",
        "colab_type": "code",
        "outputId": "98640e19-9048-4f08-fc2a-3d636c965515",
        "colab": {
          "base_uri": "https://localhost:8080/",
          "height": 53
        }
      },
      "source": [
        "n = int(input('숫자를 입력해주세요'))\n",
        "\n",
        "if n%2 == 0:\n",
        "  print(\"짝수\")\n",
        "else:\n",
        "  print(\"짝수가 아닙니다\")"
      ],
      "execution_count": 0,
      "outputs": [
        {
          "output_type": "stream",
          "text": [
            "숫자를 입력해주세요3\n",
            "짝수가 아닙니다\n"
          ],
          "name": "stdout"
        }
      ]
    },
    {
      "cell_type": "markdown",
      "metadata": {
        "id": "iIdoLjwJX45e",
        "colab_type": "text"
      },
      "source": [
        "###08번 문제(산술 연산 및 list index)\n",
        "직사각형의 대각선의 길이를 구하는 공식은 밑변의 제곱 + 높이의 제곱 = 대각선의 제곱이다.\n",
        "\n",
        "다음 변수 list_08에는 하나의 직사각형의 밑변과 높이가 저장되어 있습니다.\n",
        "\n",
        "각각 밑변이 3이고 높이가 4일 때, 직사각형의 대각선의 제곱의 길이를 출력하세요."
      ]
    },
    {
      "cell_type": "code",
      "metadata": {
        "id": "M_hwsE8kX6j1",
        "colab_type": "code",
        "outputId": "74232faf-d61b-41fa-925e-735e6f5439ba",
        "colab": {
          "base_uri": "https://localhost:8080/",
          "height": 35
        }
      },
      "source": [
        "list_08 = [3, 4]\n",
        "\n",
        "a = list_08[0]\n",
        "b = list_08[1]\n",
        "a_1 = a*a\n",
        "b_1 = b*b\n",
        "c = a_1 + b_1\n",
        "\n",
        "print(c)"
      ],
      "execution_count": 0,
      "outputs": [
        {
          "output_type": "stream",
          "text": [
            "25\n"
          ],
          "name": "stdout"
        }
      ]
    },
    {
      "cell_type": "markdown",
      "metadata": {
        "id": "WCZcMlR7ZMhb",
        "colab_type": "text"
      },
      "source": [
        "###09번 문제(소수 판별 프로그램)\n",
        "입력받은 숫자가 소수인지 아닌지 출력하는 프로그램을 작성 해 주세요. (출력 : 소수 or 소수가 아닙니다)"
      ]
    },
    {
      "cell_type": "code",
      "metadata": {
        "id": "MXjmfa22ZSWE",
        "colab_type": "code",
        "outputId": "964b91ff-38a9-41ba-c243-12cd3648033a",
        "colab": {
          "base_uri": "https://localhost:8080/",
          "height": 53
        }
      },
      "source": [
        "def prime_number(num_10):\n",
        "    if num_10 != 1:\n",
        "      for f in range(2, num_10):\n",
        "        if num_10 % f == 0:\n",
        "          return False\n",
        "    else:\n",
        "      return False\n",
        "    return True\n",
        "\n",
        "num_10 = input('숫자를 입력해주세요')\n",
        "\n",
        "if prime_number(int(num_10)):\n",
        "  print(\"소수\")\n",
        "else:\n",
        "  print(\"소수가 아닙니다\")"
      ],
      "execution_count": 0,
      "outputs": [
        {
          "output_type": "stream",
          "text": [
            "숫자를 입력해주세요5\n",
            "소수\n"
          ],
          "name": "stdout"
        }
      ]
    },
    {
      "cell_type": "markdown",
      "metadata": {
        "id": "X_lrf6iQcP7F",
        "colab_type": "text"
      },
      "source": [
        "#인공지능 수학문제"
      ]
    },
    {
      "cell_type": "markdown",
      "metadata": {
        "id": "Io6pIq3CcAYR",
        "colab_type": "text"
      },
      "source": [
        "###1번 문제 (Hypothesis)\n",
        "다음 공식은 Hypothesis를 구하는 공식입니다. 다음과 같이 값이 주어졌을때 h(x)의 값을 구하시오.\n",
        "\n",
        "W = 3\n",
        "\n",
        "x = 10\n",
        "\n",
        "b = 1"
      ]
    },
    {
      "cell_type": "markdown",
      "metadata": {
        "id": "upv_hWgL8yks",
        "colab_type": "text"
      },
      "source": [
        "# $$h(x) = Wx + b$$"
      ]
    },
    {
      "cell_type": "markdown",
      "metadata": {
        "id": "f-2qth_pcSA9",
        "colab_type": "text"
      },
      "source": [
        "답 : h(x) = 31"
      ]
    },
    {
      "cell_type": "markdown",
      "metadata": {
        "id": "oPhW8qp_ce-E",
        "colab_type": "text"
      },
      "source": [
        "###2번 문제 (Cost function)\n",
        "\n",
        "다음 공식은 Cost를 구하는 공식입니다. 다음과 같이 값이 주어졌을때 cost의 값을 구하세요.\n",
        "\n",
        "W = 2\n",
        "\n",
        "x = [2, 4, 8]\n",
        "\n",
        "y = [5, 12, 21]\n",
        "\n",
        "(tip: x1=2, y1=5 / x2=4, y2=12 / x3=8, y3=21)"
      ]
    },
    {
      "cell_type": "markdown",
      "metadata": {
        "id": "tjWpl4O1oXy1",
        "colab_type": "text"
      },
      "source": [
        "# $$cost(W) =  \\frac{1}{n}\\sum_{i=1}^n (Wx^{(i)}-y^{(i)})^2$$"
      ]
    },
    {
      "cell_type": "markdown",
      "metadata": {
        "id": "McBnEZPncnhC",
        "colab_type": "text"
      },
      "source": [
        "답 : "
      ]
    },
    {
      "cell_type": "markdown",
      "metadata": {
        "id": "sQMi2ASxeJtt",
        "colab_type": "text"
      },
      "source": [
        "## 3번 문제 (Logistic regression sigmoid function)\n",
        "\n",
        "다음 공식은 로지스틱 시그모이드 함수입니다. x가 __양의 무한대로__ 갈때 f(x)가 수렴하는 값을 구하세요.\n",
        "\n",
        "![대체 텍스트](https://prwatech.in/blog/wp-content/uploads/2020/02/logi3.png)"
      ]
    },
    {
      "cell_type": "markdown",
      "metadata": {
        "id": "IKSXX3codBmR",
        "colab_type": "text"
      },
      "source": [
        "답 : 1"
      ]
    }
  ]
}