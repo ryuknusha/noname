{
  "nbformat": 4,
  "nbformat_minor": 0,
  "metadata": {
    "colab": {
      "name": "Untitled0.ipynb",
      "provenance": [],
      "authorship_tag": "ABX9TyPrmeY3R0pcJvxV4Q8So3kP",
      "include_colab_link": true
    },
    "kernelspec": {
      "name": "python3",
      "display_name": "Python 3"
    }
  },
  "cells": [
    {
      "cell_type": "markdown",
      "metadata": {
        "id": "view-in-github",
        "colab_type": "text"
      },
      "source": [
        "<a href=\"https://colab.research.google.com/github/ryuknusha/noname/blob/master/1%EC%A3%BC%EC%B0%A8%20%EA%B3%BC%EC%A0%9C\" target=\"_parent\"><img src=\"https://colab.research.google.com/assets/colab-badge.svg\" alt=\"Open In Colab\"/></a>"
      ]
    },
    {
      "cell_type": "markdown",
      "metadata": {
        "id": "CbFa_bDnx-3W",
        "colab_type": "text"
      },
      "source": [
        "#**1주차 과제**\n",
        "\n",
        "1. 심심이\n",
        "2. 음성인식 비서 서비스\n",
        "3. 삼성 NEON\n",
        "4. AI 스피커"
      ]
    }
  ]
}
